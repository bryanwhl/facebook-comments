{
 "cells": [
  {
   "cell_type": "markdown",
   "id": "07c8dcb9",
   "metadata": {},
   "source": [
    "CS3244 Project"
   ]
  },
  {
   "cell_type": "code",
   "execution_count": 5,
   "id": "b06a29d4",
   "metadata": {},
   "outputs": [],
   "source": [
    "import numpy as np\n",
    "import pandas as pd\n",
    "\n",
    "# Load Datasets\n",
    "# Return value of .read_csv() is a pandas dataframe\n",
    "\n",
    "training_variant_1 = pd.read_csv(\"./Dataset/Training/Features_Variant_1.csv\")\n",
    "training_variant_2 = pd.read_csv(\"./Dataset/Training/Features_Variant_2.csv\")\n",
    "training_variant_3 = pd.read_csv(\"./Dataset/Training/Features_Variant_3.csv\")\n",
    "training_variant_4 = pd.read_csv(\"./Dataset/Training/Features_Variant_4.csv\")\n",
    "training_variant_5 = pd.read_csv(\"./Dataset/Training/Features_Variant_5.csv\")\n",
    "\n",
    "feature_test_set = pd.read_csv(\"./Dataset/Testing/Features_TestSet.csv\")\n",
    "\n",
    "test_case_1 = pd.read_csv(\"./Dataset/Testing/TestSet/Test_Case_1.csv\")\n",
    "test_case_2 = pd.read_csv(\"./Dataset/Testing/TestSet/Test_Case_2.csv\")\n",
    "test_case_3 = pd.read_csv(\"./Dataset/Testing/TestSet/Test_Case_3.csv\")\n",
    "test_case_4 = pd.read_csv(\"./Dataset/Testing/TestSet/Test_Case_4.csv\")\n",
    "test_case_5 = pd.read_csv(\"./Dataset/Testing/TestSet/Test_Case_5.csv\")\n",
    "test_case_6 = pd.read_csv(\"./Dataset/Testing/TestSet/Test_Case_6.csv\")\n",
    "test_case_7 = pd.read_csv(\"./Dataset/Testing/TestSet/Test_Case_7.csv\")\n",
    "test_case_8 = pd.read_csv(\"./Dataset/Testing/TestSet/Test_Case_8.csv\")\n",
    "test_case_9 = pd.read_csv(\"./Dataset/Testing/TestSet/Test_Case_9.csv\")\n",
    "test_case_10 = pd.read_csv(\"./Dataset/Testing/TestSet/Test_Case_10.csv\")\n"
   ]
  },
  {
   "cell_type": "code",
   "execution_count": 19,
   "id": "6b30cce4",
   "metadata": {},
   "outputs": [
    {
     "name": "stdout",
     "output_type": "stream",
     "text": [
      "Number of Features:  106\n",
      "Features Array:  ['Product/service', 'Public figure', 'Retail and consumer merchandise', 'Athlete', 'Education website', 'Arts/entertainment/nightlife', 'Aerospace/defense', 'Actor/director', 'Professional sports team', 'Travel/leisure', 'Arts/humanities website', 'Food/beverages', 'Record label', 'Movie', 'Song', 'Community', 'Company', 'Artist', 'Non-governmental organization (ngo)', 'Media/news/publishing', 'Cars', 'Clothing', 'Local business', 'Musician/band', 'Politician', 'News/media website', 'Education', 'Author', 'Sports event', 'Restaurant/cafe', 'School sports team', 'University', 'Tv show', 'Website', 'Outdoor gear/sporting goods', 'Political party', 'Sports league', 'Entertainer', 'Church/religious organization', 'Non-profit organization', 'Automobiles and parts', 'Tv channel', 'Telecommunication', 'Entertainment website', 'Shopping/retail', 'Personal blog', 'App page', 'Vitamins/supplements', 'Professional services', 'Movie theater', 'Software', 'Magazine', 'Electronics', 'School', 'Just for fun', 'Club', 'Comedian', 'Sports venue', 'Sports/recreation/activities', 'Publisher', 'Tv network', 'Health/medical/pharmacy', 'Studio', 'Home decor', 'Jewelry/watches', 'Writer', 'Health/beauty', 'Music video', 'Appliances', 'Computers/technology', 'Insurance company', 'Music award', 'Recreation/sports website', 'Reference website', 'Business/economy website', 'Bar', 'Album', 'Games/toys', 'Camera/photo', 'Book', 'Producer', 'Landmark', 'Cause', 'Organization', 'Tv/movie award', 'Hotel', 'Health/medical/pharmaceuticals', 'Transportation', 'Local/travel website', 'Musical instrument', 'Radio station', 'Other', 'Computers', 'Phone/tablet', 'Coach', 'Tools/equipment', 'Internet/software', 'Bank/financial institution', 'Society/culture website', 'Small business', 'News personality', 'Teens/kids website', 'Government official', 'Photographer', 'Spas/beauty/personal care', 'Video game']\n"
     ]
    }
   ],
   "source": [
    "# Load features array\n",
    "\n",
    "features = open(\"features.txt\", \"r\").read()\n",
    "features_array = features.splitlines()\n",
    "print(\"Number of Features: \", len(features_array))\n",
    "print(\"Features Array: \", features_array)"
   ]
  },
  {
   "cell_type": "code",
   "execution_count": 16,
   "id": "538c7230",
   "metadata": {},
   "outputs": [
    {
     "data": {
      "text/html": [
       "<div>\n",
       "<style scoped>\n",
       "    .dataframe tbody tr th:only-of-type {\n",
       "        vertical-align: middle;\n",
       "    }\n",
       "\n",
       "    .dataframe tbody tr th {\n",
       "        vertical-align: top;\n",
       "    }\n",
       "\n",
       "    .dataframe thead th {\n",
       "        text-align: right;\n",
       "    }\n",
       "</style>\n",
       "<table border=\"1\" class=\"dataframe\">\n",
       "  <thead>\n",
       "    <tr style=\"text-align: right;\">\n",
       "      <th></th>\n",
       "      <th>0</th>\n",
       "    </tr>\n",
       "  </thead>\n",
       "  <tbody>\n",
       "    <tr>\n",
       "      <th>0</th>\n",
       "      <td>Product/service</td>\n",
       "    </tr>\n",
       "    <tr>\n",
       "      <th>1</th>\n",
       "      <td>Public figure</td>\n",
       "    </tr>\n",
       "    <tr>\n",
       "      <th>2</th>\n",
       "      <td>Retail and consumer merchandise</td>\n",
       "    </tr>\n",
       "    <tr>\n",
       "      <th>3</th>\n",
       "      <td>Athlete</td>\n",
       "    </tr>\n",
       "    <tr>\n",
       "      <th>4</th>\n",
       "      <td>Education website</td>\n",
       "    </tr>\n",
       "    <tr>\n",
       "      <th>...</th>\n",
       "      <td>...</td>\n",
       "    </tr>\n",
       "    <tr>\n",
       "      <th>101</th>\n",
       "      <td>Teens/kids website</td>\n",
       "    </tr>\n",
       "    <tr>\n",
       "      <th>102</th>\n",
       "      <td>Government official</td>\n",
       "    </tr>\n",
       "    <tr>\n",
       "      <th>103</th>\n",
       "      <td>Photographer</td>\n",
       "    </tr>\n",
       "    <tr>\n",
       "      <th>104</th>\n",
       "      <td>Spas/beauty/personal care</td>\n",
       "    </tr>\n",
       "    <tr>\n",
       "      <th>105</th>\n",
       "      <td>Video game</td>\n",
       "    </tr>\n",
       "  </tbody>\n",
       "</table>\n",
       "<p>106 rows × 1 columns</p>\n",
       "</div>"
      ],
      "text/plain": [
       "                                   0\n",
       "0                    Product/service\n",
       "1                      Public figure\n",
       "2    Retail and consumer merchandise\n",
       "3                            Athlete\n",
       "4                  Education website\n",
       "..                               ...\n",
       "101               Teens/kids website\n",
       "102              Government official\n",
       "103                     Photographer\n",
       "104        Spas/beauty/personal care\n",
       "105                       Video game\n",
       "\n",
       "[106 rows x 1 columns]"
      ]
     },
     "execution_count": 16,
     "metadata": {},
     "output_type": "execute_result"
    }
   ],
   "source": [
    "pd.DataFrame(features_array)"
   ]
  }
 ],
 "metadata": {
  "kernelspec": {
   "display_name": "Python 3",
   "language": "python",
   "name": "python3"
  },
  "language_info": {
   "codemirror_mode": {
    "name": "ipython",
    "version": 3
   },
   "file_extension": ".py",
   "mimetype": "text/x-python",
   "name": "python",
   "nbconvert_exporter": "python",
   "pygments_lexer": "ipython3",
   "version": "3.8.8"
  }
 },
 "nbformat": 4,
 "nbformat_minor": 5
}
